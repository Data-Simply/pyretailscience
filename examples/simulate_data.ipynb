{
 "cells": [
  {
   "cell_type": "markdown",
   "metadata": {},
   "source": [
    "# Simulating retail transaction data with pyretailscience"
   ]
  },
  {
   "cell_type": "code",
   "execution_count": 1,
   "metadata": {},
   "outputs": [
    {
     "name": "stderr",
     "output_type": "stream",
     "text": [
      "Simulating days: 100%|██████████| 729/729 [00:51<00:00, 14.15it/s]\n"
     ]
    },
    {
     "data": {
      "text/plain": [
       "[{'transaction_id': 18350,\n",
       "  'transaction_datetime': datetime.datetime(2022, 1, 27, 17, 31, 29),\n",
       "  'customer_id': 1,\n",
       "  'product_id': 1002,\n",
       "  'product_name': 'Roadie 24 Cooler',\n",
       "  'category_0_name': 'Sports',\n",
       "  'category_0_id': 6,\n",
       "  'category_1_name': 'Water Sports',\n",
       "  'category_1_id': 40,\n",
       "  'brand_name': 'YETI',\n",
       "  'brand_id': 201,\n",
       "  'unit_price': 199.99,\n",
       "  'quantity': 0,\n",
       "  'total_price': 0.0,\n",
       "  'store_id': 6},\n",
       " {'transaction_id': 18350,\n",
       "  'transaction_datetime': datetime.datetime(2022, 1, 27, 17, 31, 29),\n",
       "  'customer_id': 1,\n",
       "  'product_id': 92,\n",
       "  'product_name': 'Laugh & Learn Smart Stages Piggy Bank',\n",
       "  'category_0_name': 'Toys',\n",
       "  'category_0_id': 1,\n",
       "  'category_1_name': 'Educational Toys',\n",
       "  'category_1_id': 4,\n",
       "  'brand_name': 'Fisher-Price',\n",
       "  'brand_id': 19,\n",
       "  'unit_price': 14.99,\n",
       "  'quantity': 0,\n",
       "  'total_price': 0.0,\n",
       "  'store_id': 6}]"
      ]
     },
     "execution_count": 1,
     "metadata": {},
     "output_type": "execute_result"
    }
   ],
   "source": [
    "from pyretailscience.data.simulation import Simulation\n",
    "\n",
    "config_file = \"../data/default_data_config.yaml\"\n",
    "\n",
    "sim = Simulation.from_config_file(seed=42, config_file=config_file)\n",
    "sim.run()\n",
    "sim.transactions[:2]"
   ]
  },
  {
   "cell_type": "markdown",
   "metadata": {},
   "source": [
    "Now lets see that as a Pandas DataFrame"
   ]
  },
  {
   "cell_type": "code",
   "execution_count": 2,
   "metadata": {},
   "outputs": [
    {
     "data": {
      "text/html": [
       "<div>\n",
       "<style scoped>\n",
       "    .dataframe tbody tr th:only-of-type {\n",
       "        vertical-align: middle;\n",
       "    }\n",
       "\n",
       "    .dataframe tbody tr th {\n",
       "        vertical-align: top;\n",
       "    }\n",
       "\n",
       "    .dataframe thead th {\n",
       "        text-align: right;\n",
       "    }\n",
       "</style>\n",
       "<table border=\"1\" class=\"dataframe\">\n",
       "  <thead>\n",
       "    <tr style=\"text-align: right;\">\n",
       "      <th></th>\n",
       "      <th>transaction_id</th>\n",
       "      <th>transaction_datetime</th>\n",
       "      <th>customer_id</th>\n",
       "      <th>product_id</th>\n",
       "      <th>product_name</th>\n",
       "      <th>category_0_name</th>\n",
       "      <th>category_0_id</th>\n",
       "      <th>category_1_name</th>\n",
       "      <th>category_1_id</th>\n",
       "      <th>brand_name</th>\n",
       "      <th>brand_id</th>\n",
       "      <th>unit_price</th>\n",
       "      <th>quantity</th>\n",
       "      <th>total_price</th>\n",
       "      <th>store_id</th>\n",
       "    </tr>\n",
       "  </thead>\n",
       "  <tbody>\n",
       "    <tr>\n",
       "      <th>0</th>\n",
       "      <td>18350</td>\n",
       "      <td>2022-01-27 17:31:29</td>\n",
       "      <td>1</td>\n",
       "      <td>1002</td>\n",
       "      <td>Roadie 24 Cooler</td>\n",
       "      <td>Sports</td>\n",
       "      <td>6</td>\n",
       "      <td>Water Sports</td>\n",
       "      <td>40</td>\n",
       "      <td>YETI</td>\n",
       "      <td>201</td>\n",
       "      <td>199.99</td>\n",
       "      <td>0</td>\n",
       "      <td>0.00</td>\n",
       "      <td>6</td>\n",
       "    </tr>\n",
       "    <tr>\n",
       "      <th>1</th>\n",
       "      <td>18350</td>\n",
       "      <td>2022-01-27 17:31:29</td>\n",
       "      <td>1</td>\n",
       "      <td>92</td>\n",
       "      <td>Laugh &amp; Learn Smart Stages Piggy Bank</td>\n",
       "      <td>Toys</td>\n",
       "      <td>1</td>\n",
       "      <td>Educational Toys</td>\n",
       "      <td>4</td>\n",
       "      <td>Fisher-Price</td>\n",
       "      <td>19</td>\n",
       "      <td>14.99</td>\n",
       "      <td>0</td>\n",
       "      <td>0.00</td>\n",
       "      <td>6</td>\n",
       "    </tr>\n",
       "    <tr>\n",
       "      <th>2</th>\n",
       "      <td>18350</td>\n",
       "      <td>2022-01-27 17:31:29</td>\n",
       "      <td>1</td>\n",
       "      <td>1443</td>\n",
       "      <td>Mirthquake</td>\n",
       "      <td>Movies</td>\n",
       "      <td>9</td>\n",
       "      <td>Comedy</td>\n",
       "      <td>58</td>\n",
       "      <td>GiggleWorks</td>\n",
       "      <td>289</td>\n",
       "      <td>10.50</td>\n",
       "      <td>1</td>\n",
       "      <td>10.50</td>\n",
       "      <td>6</td>\n",
       "    </tr>\n",
       "    <tr>\n",
       "      <th>3</th>\n",
       "      <td>18350</td>\n",
       "      <td>2022-01-27 17:31:29</td>\n",
       "      <td>1</td>\n",
       "      <td>843</td>\n",
       "      <td>G-MAX Lawn Mower</td>\n",
       "      <td>Home</td>\n",
       "      <td>5</td>\n",
       "      <td>Gardening</td>\n",
       "      <td>34</td>\n",
       "      <td>Greenworks</td>\n",
       "      <td>169</td>\n",
       "      <td>299.99</td>\n",
       "      <td>1</td>\n",
       "      <td>299.99</td>\n",
       "      <td>6</td>\n",
       "    </tr>\n",
       "    <tr>\n",
       "      <th>4</th>\n",
       "      <td>18350</td>\n",
       "      <td>2022-01-27 17:31:29</td>\n",
       "      <td>1</td>\n",
       "      <td>859</td>\n",
       "      <td>Hue Go Portable Light</td>\n",
       "      <td>Home</td>\n",
       "      <td>5</td>\n",
       "      <td>Lighting</td>\n",
       "      <td>35</td>\n",
       "      <td>Philips Hue</td>\n",
       "      <td>172</td>\n",
       "      <td>79.99</td>\n",
       "      <td>6</td>\n",
       "      <td>479.94</td>\n",
       "      <td>6</td>\n",
       "    </tr>\n",
       "  </tbody>\n",
       "</table>\n",
       "</div>"
      ],
      "text/plain": [
       "   transaction_id transaction_datetime  customer_id  product_id  \\\n",
       "0           18350  2022-01-27 17:31:29            1        1002   \n",
       "1           18350  2022-01-27 17:31:29            1          92   \n",
       "2           18350  2022-01-27 17:31:29            1        1443   \n",
       "3           18350  2022-01-27 17:31:29            1         843   \n",
       "4           18350  2022-01-27 17:31:29            1         859   \n",
       "\n",
       "                            product_name category_0_name  category_0_id  \\\n",
       "0                       Roadie 24 Cooler          Sports              6   \n",
       "1  Laugh & Learn Smart Stages Piggy Bank            Toys              1   \n",
       "2                             Mirthquake          Movies              9   \n",
       "3                       G-MAX Lawn Mower            Home              5   \n",
       "4                  Hue Go Portable Light            Home              5   \n",
       "\n",
       "    category_1_name  category_1_id    brand_name  brand_id  unit_price  \\\n",
       "0      Water Sports             40          YETI       201      199.99   \n",
       "1  Educational Toys              4  Fisher-Price        19       14.99   \n",
       "2            Comedy             58   GiggleWorks       289       10.50   \n",
       "3         Gardening             34    Greenworks       169      299.99   \n",
       "4          Lighting             35   Philips Hue       172       79.99   \n",
       "\n",
       "   quantity  total_price  store_id  \n",
       "0         0         0.00         6  \n",
       "1         0         0.00         6  \n",
       "2         1        10.50         6  \n",
       "3         1       299.99         6  \n",
       "4         6       479.94         6  "
      ]
     },
     "execution_count": 2,
     "metadata": {},
     "output_type": "execute_result"
    }
   ],
   "source": [
    "import pandas as pd\n",
    "\n",
    "transactions_df = pd.DataFrame(sim.transactions)\n",
    "transactions_df.head()"
   ]
  },
  {
   "cell_type": "markdown",
   "metadata": {},
   "source": [
    "Here we can see that work has been done to ensure that the category, brand and product names are realistic"
   ]
  },
  {
   "cell_type": "code",
   "execution_count": 3,
   "metadata": {},
   "outputs": [
    {
     "data": {
      "text/html": [
       "<div>\n",
       "<style scoped>\n",
       "    .dataframe tbody tr th:only-of-type {\n",
       "        vertical-align: middle;\n",
       "    }\n",
       "\n",
       "    .dataframe tbody tr th {\n",
       "        vertical-align: top;\n",
       "    }\n",
       "\n",
       "    .dataframe thead th {\n",
       "        text-align: right;\n",
       "    }\n",
       "</style>\n",
       "<table border=\"1\" class=\"dataframe\">\n",
       "  <thead>\n",
       "    <tr style=\"text-align: right;\">\n",
       "      <th></th>\n",
       "      <th>category_0_name</th>\n",
       "      <th>category_0_id</th>\n",
       "    </tr>\n",
       "  </thead>\n",
       "  <tbody>\n",
       "    <tr>\n",
       "      <th>1</th>\n",
       "      <td>Toys</td>\n",
       "      <td>1</td>\n",
       "    </tr>\n",
       "    <tr>\n",
       "      <th>9</th>\n",
       "      <td>Grocery</td>\n",
       "      <td>2</td>\n",
       "    </tr>\n",
       "    <tr>\n",
       "      <th>20</th>\n",
       "      <td>Electronics</td>\n",
       "      <td>3</td>\n",
       "    </tr>\n",
       "    <tr>\n",
       "      <th>35</th>\n",
       "      <td>Clothing</td>\n",
       "      <td>4</td>\n",
       "    </tr>\n",
       "    <tr>\n",
       "      <th>3</th>\n",
       "      <td>Home</td>\n",
       "      <td>5</td>\n",
       "    </tr>\n",
       "    <tr>\n",
       "      <th>0</th>\n",
       "      <td>Sports</td>\n",
       "      <td>6</td>\n",
       "    </tr>\n",
       "    <tr>\n",
       "      <th>21</th>\n",
       "      <td>Beauty</td>\n",
       "      <td>7</td>\n",
       "    </tr>\n",
       "    <tr>\n",
       "      <th>7</th>\n",
       "      <td>Books</td>\n",
       "      <td>8</td>\n",
       "    </tr>\n",
       "    <tr>\n",
       "      <th>2</th>\n",
       "      <td>Movies</td>\n",
       "      <td>9</td>\n",
       "    </tr>\n",
       "    <tr>\n",
       "      <th>14</th>\n",
       "      <td>Music</td>\n",
       "      <td>10</td>\n",
       "    </tr>\n",
       "  </tbody>\n",
       "</table>\n",
       "</div>"
      ],
      "text/plain": [
       "   category_0_name  category_0_id\n",
       "1             Toys              1\n",
       "9          Grocery              2\n",
       "20     Electronics              3\n",
       "35        Clothing              4\n",
       "3             Home              5\n",
       "0           Sports              6\n",
       "21          Beauty              7\n",
       "7            Books              8\n",
       "2           Movies              9\n",
       "14           Music             10"
      ]
     },
     "execution_count": 3,
     "metadata": {},
     "output_type": "execute_result"
    }
   ],
   "source": [
    "transactions_df[[\"category_0_name\", \"category_0_id\"]].drop_duplicates().sort_values(\"category_0_id\")"
   ]
  },
  {
   "cell_type": "markdown",
   "metadata": {},
   "source": [
    "And let's look at some of the characteristics of that dataset. For instance, the sales of toys by month"
   ]
  },
  {
   "cell_type": "code",
   "execution_count": 4,
   "metadata": {},
   "outputs": [
    {
     "data": {
      "image/png": "[encoded data removed]",
      "text/plain": [
       "<Figure size 1000x500 with 1 Axes>"
      ]
     },
     "metadata": {},
     "output_type": "display_data"
    }
   ],
   "source": [
    "import matplotlib.pyplot as plt\n",
    "\n",
    "toys_idx = transactions_df[\"category_0_name\"] == \"Toys\"\n",
    "ax = (\n",
    "    transactions_df[toys_idx]\n",
    "    .groupby(transactions_df[toys_idx][\"transaction_datetime\"].dt.to_period(\"M\"))[\"total_price\"]\n",
    "    .sum()\n",
    "    .plot.area(title=\"Total sales of toys per month\", figsize=(10, 5))\n",
    ")\n",
    "ax.set_ylabel(\"Sales\")\n",
    "ax.set_xlabel(\"Transaction date\")\n",
    "plt.show()"
   ]
  },
  {
   "cell_type": "markdown",
   "metadata": {},
   "source": [
    "Or let's see the distribution in number of days between customer orders"
   ]
  },
  {
   "cell_type": "code",
   "execution_count": 5,
   "metadata": {},
   "outputs": [
    {
     "data": {
      "image/png": "[encoded data removed]",
      "text/plain": [
       "<Figure size 1000x500 with 1 Axes>"
      ]
     },
     "metadata": {},
     "output_type": "display_data"
    },
    {
     "name": "stdout",
     "output_type": "stream",
     "text": [
      "Mean days between orders: 30.9\n"
     ]
    }
   ],
   "source": [
    "days_between_df = transactions_df[[\"customer_id\", \"transaction_datetime\"]].drop_duplicates()\n",
    "days_between_df[\"transaction_datetime\"] = days_between_df[\"transaction_datetime\"].dt.date\n",
    "days_between_df.sort_values([\"customer_id\", \"transaction_datetime\"], inplace=True)\n",
    "days_between_s =  days_between_df.groupby(\"customer_id\")[\"transaction_datetime\"].diff().dropna().apply(lambda x: x.days)\n",
    "\n",
    "ax = days_between_s.plot.hist(title=\"Distribution of days between customer orders\", figsize=(10, 5))\n",
    "ax.set_xlabel(\"Number of transactions\")\n",
    "plt.show()\n",
    "\n",
    "print(f\"Mean days between orders: {days_between_s.mean():.1f}\")"
   ]
  },
  {
   "cell_type": "markdown",
   "metadata": {},
   "source": [
    "## Simulating a different retailer\n",
    "\n",
    "But let's say that you're trying to simulate data for a fashion retailer whose customers tend to shop once a quarter. Let's override the default settings in the config file \n",
    "\n",
    "First we'll take a peek inside the config file and see some of the settings you're likely to override"
   ]
  },
  {
   "cell_type": "code",
   "execution_count": 6,
   "metadata": {},
   "outputs": [
    {
     "name": "stdout",
     "output_type": "stream",
     "text": [
      "{   'customers': {   'average_days_between_purchases': 30,\n",
      "                     'average_new_customers_per_day': 5,\n",
      "                     'churn_probability': 0.1,\n",
      "                     'starting_number_of_customers': 2500},\n",
      "    'stores': {'number_of_stores': 10},\n",
      "    'transactions': {   'end_date': datetime.datetime(2023, 12, 31, 0, 0),\n",
      "                        'end_hour': 20,\n",
      "                        'max_products_per_transaction': 10,\n",
      "                        'start_date': datetime.datetime(2022, 1, 1, 0, 0),\n",
      "                        'start_hour': 7}}\n"
     ]
    }
   ],
   "source": [
    "from pyretailscience.data.simulation import config_schema\n",
    "import strictyaml as yaml\n",
    "import pprint\n",
    "\n",
    "with open(config_file, \"r\") as f:\n",
    "        config = yaml.load(f.read(), config_schema).data\n",
    "\n",
    "pprint.pprint({k: v for k, v in config.items() if k != 'products'}, indent=4)"
   ]
  },
  {
   "cell_type": "markdown",
   "metadata": {},
   "source": [
    "Here you see that you can set the `average_days_between_purchases`. Let's increase the number this to 90 days and re-simulate the data"
   ]
  },
  {
   "cell_type": "code",
   "execution_count": 7,
   "metadata": {},
   "outputs": [
    {
     "name": "stdout",
     "output_type": "stream",
     "text": [
      "{   'customers': {   'average_days_between_purchases': 90,\n",
      "                     'average_new_customers_per_day': 5,\n",
      "                     'churn_probability': 0.1,\n",
      "                     'starting_number_of_customers': 2500},\n",
      "    'stores': {'number_of_stores': 10},\n",
      "    'transactions': {   'end_date': datetime.datetime(2023, 12, 31, 0, 0),\n",
      "                        'end_hour': 20,\n",
      "                        'max_products_per_transaction': 10,\n",
      "                        'start_date': datetime.datetime(2022, 1, 1, 0, 0),\n",
      "                        'start_hour': 7}}\n"
     ]
    }
   ],
   "source": [
    "config[\"customers\"][\"average_days_between_purchases\"] = 90\n",
    "\n",
    "pprint.pprint({k: v for k, v in config.items() if k != 'products'}, indent=4)"
   ]
  },
  {
   "cell_type": "markdown",
   "metadata": {},
   "source": [
    "Now let's resimulate the data with the new settings"
   ]
  },
  {
   "cell_type": "code",
   "execution_count": 8,
   "metadata": {},
   "outputs": [
    {
     "name": "stderr",
     "output_type": "stream",
     "text": [
      "Simulating days: 100%|██████████| 729/729 [00:30<00:00, 23.71it/s]\n"
     ]
    },
    {
     "data": {
      "text/plain": [
       "[{'transaction_id': 8187,\n",
       "  'transaction_datetime': datetime.datetime(2022, 3, 26, 17, 50, 54),\n",
       "  'customer_id': 1,\n",
       "  'product_id': 1537,\n",
       "  'product_name': 'Fabled Forest',\n",
       "  'category_0_name': 'Movies',\n",
       "  'category_0_id': 9,\n",
       "  'category_1_name': 'Animated',\n",
       "  'category_1_id': 62,\n",
       "  'brand_name': 'Dreamful Animations',\n",
       "  'brand_id': 308,\n",
       "  'unit_price': 16.5,\n",
       "  'quantity': 0,\n",
       "  'total_price': 0.0,\n",
       "  'store_id': 5},\n",
       " {'transaction_id': 8187,\n",
       "  'transaction_datetime': datetime.datetime(2022, 3, 26, 17, 50, 54),\n",
       "  'customer_id': 1,\n",
       "  'product_id': 535,\n",
       "  'product_name': 'Pocket Tee',\n",
       "  'category_0_name': 'Clothing',\n",
       "  'category_0_id': 4,\n",
       "  'category_1_name': 'T-Shirts',\n",
       "  'category_1_id': 22,\n",
       "  'brand_name': 'Supreme',\n",
       "  'brand_id': 107,\n",
       "  'unit_price': 59.99,\n",
       "  'quantity': 0,\n",
       "  'total_price': 0.0,\n",
       "  'store_id': 5}]"
      ]
     },
     "execution_count": 8,
     "metadata": {},
     "output_type": "execute_result"
    }
   ],
   "source": [
    "sim = Simulation(seed=42, config=config)\n",
    "sim.run()\n",
    "sim.transactions[:2]"
   ]
  },
  {
   "cell_type": "markdown",
   "metadata": {},
   "source": [
    "Now let's redo our previous graph and see if it looks more like something you would see at a large retailer"
   ]
  },
  {
   "cell_type": "code",
   "execution_count": 9,
   "metadata": {},
   "outputs": [
    {
     "data": {
      "image/png": "[encoded data removed]",
      "text/plain": [
       "<Figure size 1000x500 with 1 Axes>"
      ]
     },
     "metadata": {},
     "output_type": "display_data"
    },
    {
     "name": "stdout",
     "output_type": "stream",
     "text": [
      "Mean days between orders: 90.7\n"
     ]
    }
   ],
   "source": [
    "transactions_df = pd.DataFrame(sim.transactions)\n",
    "\n",
    "days_between_df = transactions_df[[\"customer_id\", \"transaction_datetime\"]].drop_duplicates()\n",
    "days_between_df[\"transaction_datetime\"] = days_between_df[\"transaction_datetime\"].dt.date\n",
    "days_between_df.sort_values([\"customer_id\", \"transaction_datetime\"], inplace=True)\n",
    "days_between_s =  days_between_df.groupby(\"customer_id\")[\"transaction_datetime\"].diff().dropna().apply(lambda x: x.days)\n",
    "\n",
    "ax = days_between_s.plot.hist(title=\"Distribution of days between customer orders\", figsize=(10, 5))\n",
    "ax.set_xlabel(\"Number of transactions\")\n",
    "plt.show()\n",
    "\n",
    "print(f\"Mean days between orders: {days_between_s.mean():.1f}\")"
   ]
  }
 ],
 "metadata": {
  "kernelspec": {
   "display_name": ".venv",
   "language": "python",
   "name": "python3"
  },
  "language_info": {
   "codemirror_mode": {
    "name": "ipython",
    "version": 3
   },
   "file_extension": ".py",
   "mimetype": "text/x-python",
   "name": "python",
   "nbconvert_exporter": "python",
   "pygments_lexer": "ipython3",
   "version": "3.10.9"
  }
 },
 "nbformat": 4,
 "nbformat_minor": 2
}
