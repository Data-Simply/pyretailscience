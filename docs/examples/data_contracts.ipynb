{
 "cells": [
  {
   "cell_type": "markdown",
   "metadata": {},
   "source": [
    "# Data contracts\n",
    "\n",
    "Data contracts are the way PyRetailScience to ensure that the data entering a function is as expected. For instance, at a\n",
    "customer/product granularity. They are based on Great Expectations and easy to extend based on your own data and your\n",
    "expectations of how it should look.\n",
    "\n",
    "Let's start off by generating some simulated data."
   ]
  },
  {
   "cell_type": "code",
   "execution_count": 1,
   "metadata": {},
   "outputs": [
    {
     "name": "stderr",
     "output_type": "stream",
     "text": [
      "Simulating days: 100%|██████████| 729/729 [02:07<00:00,  5.70it/s]\n"
     ]
    },
    {
     "data": {
      "text/html": [
       "<div>\n",
       "<style scoped>\n",
       "    .dataframe tbody tr th:only-of-type {\n",
       "        vertical-align: middle;\n",
       "    }\n",
       "\n",
       "    .dataframe tbody tr th {\n",
       "        vertical-align: top;\n",
       "    }\n",
       "\n",
       "    .dataframe thead th {\n",
       "        text-align: right;\n",
       "    }\n",
       "</style>\n",
       "<table border=\"1\" class=\"dataframe\">\n",
       "  <thead>\n",
       "    <tr style=\"text-align: right;\">\n",
       "      <th></th>\n",
       "      <th>transaction_id</th>\n",
       "      <th>transaction_datetime</th>\n",
       "      <th>customer_id</th>\n",
       "      <th>product_id</th>\n",
       "      <th>product_name</th>\n",
       "      <th>category_0_name</th>\n",
       "      <th>category_0_id</th>\n",
       "      <th>category_1_name</th>\n",
       "      <th>category_1_id</th>\n",
       "      <th>brand_name</th>\n",
       "      <th>brand_id</th>\n",
       "      <th>unit_price</th>\n",
       "      <th>quantity</th>\n",
       "      <th>total_price</th>\n",
       "      <th>store_id</th>\n",
       "    </tr>\n",
       "  </thead>\n",
       "  <tbody>\n",
       "    <tr>\n",
       "      <th>0</th>\n",
       "      <td>12106</td>\n",
       "      <td>2022-01-14 09:50:01</td>\n",
       "      <td>1</td>\n",
       "      <td>1682</td>\n",
       "      <td>Streamer LX</td>\n",
       "      <td>Music</td>\n",
       "      <td>10</td>\n",
       "      <td>Bass Guitars</td>\n",
       "      <td>67</td>\n",
       "      <td>Warwick</td>\n",
       "      <td>337</td>\n",
       "      <td>1299.99</td>\n",
       "      <td>0</td>\n",
       "      <td>0.00</td>\n",
       "      <td>2</td>\n",
       "    </tr>\n",
       "    <tr>\n",
       "      <th>1</th>\n",
       "      <td>6846</td>\n",
       "      <td>2022-02-14 09:33:01</td>\n",
       "      <td>1</td>\n",
       "      <td>651</td>\n",
       "      <td>Old Skool</td>\n",
       "      <td>Clothing</td>\n",
       "      <td>4</td>\n",
       "      <td>Shoes</td>\n",
       "      <td>26</td>\n",
       "      <td>Vans</td>\n",
       "      <td>131</td>\n",
       "      <td>60.00</td>\n",
       "      <td>2</td>\n",
       "      <td>120.00</td>\n",
       "      <td>6</td>\n",
       "    </tr>\n",
       "    <tr>\n",
       "      <th>2</th>\n",
       "      <td>6846</td>\n",
       "      <td>2022-02-14 09:33:01</td>\n",
       "      <td>1</td>\n",
       "      <td>1742</td>\n",
       "      <td>Conservatoire Violin</td>\n",
       "      <td>Music</td>\n",
       "      <td>10</td>\n",
       "      <td>String Instruments</td>\n",
       "      <td>70</td>\n",
       "      <td>Stentor</td>\n",
       "      <td>349</td>\n",
       "      <td>329.99</td>\n",
       "      <td>0</td>\n",
       "      <td>0.00</td>\n",
       "      <td>6</td>\n",
       "    </tr>\n",
       "    <tr>\n",
       "      <th>3</th>\n",
       "      <td>43779</td>\n",
       "      <td>2022-03-11 16:02:40</td>\n",
       "      <td>1</td>\n",
       "      <td>350</td>\n",
       "      <td>Crunchy Butterfly Shrimp</td>\n",
       "      <td>Grocery</td>\n",
       "      <td>2</td>\n",
       "      <td>Meat &amp; Seafood</td>\n",
       "      <td>14</td>\n",
       "      <td>Gorton's</td>\n",
       "      <td>70</td>\n",
       "      <td>7.49</td>\n",
       "      <td>1</td>\n",
       "      <td>7.49</td>\n",
       "      <td>7</td>\n",
       "    </tr>\n",
       "    <tr>\n",
       "      <th>4</th>\n",
       "      <td>43779</td>\n",
       "      <td>2022-03-11 16:02:40</td>\n",
       "      <td>1</td>\n",
       "      <td>580</td>\n",
       "      <td>Athletic Taper Jeans with GapFlex</td>\n",
       "      <td>Clothing</td>\n",
       "      <td>4</td>\n",
       "      <td>Jeans</td>\n",
       "      <td>23</td>\n",
       "      <td>Gap</td>\n",
       "      <td>116</td>\n",
       "      <td>65.00</td>\n",
       "      <td>6</td>\n",
       "      <td>390.00</td>\n",
       "      <td>7</td>\n",
       "    </tr>\n",
       "  </tbody>\n",
       "</table>\n",
       "</div>"
      ],
      "text/plain": [
       "   transaction_id transaction_datetime  customer_id  product_id  \\\n",
       "0           12106  2022-01-14 09:50:01            1        1682   \n",
       "1            6846  2022-02-14 09:33:01            1         651   \n",
       "2            6846  2022-02-14 09:33:01            1        1742   \n",
       "3           43779  2022-03-11 16:02:40            1         350   \n",
       "4           43779  2022-03-11 16:02:40            1         580   \n",
       "\n",
       "                        product_name category_0_name  category_0_id  \\\n",
       "0                        Streamer LX           Music             10   \n",
       "1                          Old Skool        Clothing              4   \n",
       "2               Conservatoire Violin           Music             10   \n",
       "3           Crunchy Butterfly Shrimp         Grocery              2   \n",
       "4  Athletic Taper Jeans with GapFlex        Clothing              4   \n",
       "\n",
       "      category_1_name  category_1_id brand_name  brand_id  unit_price  \\\n",
       "0        Bass Guitars             67    Warwick       337     1299.99   \n",
       "1               Shoes             26       Vans       131       60.00   \n",
       "2  String Instruments             70    Stentor       349      329.99   \n",
       "3      Meat & Seafood             14   Gorton's        70        7.49   \n",
       "4               Jeans             23        Gap       116       65.00   \n",
       "\n",
       "   quantity  total_price  store_id  \n",
       "0         0         0.00         2  \n",
       "1         2       120.00         6  \n",
       "2         0         0.00         6  \n",
       "3         1         7.49         7  \n",
       "4         6       390.00         7  "
      ]
     },
     "execution_count": 1,
     "metadata": {},
     "output_type": "execute_result"
    }
   ],
   "source": [
    "from pyretailscience.data.simulation import Simulation\n",
    "import pandas as pd\n",
    "\n",
    "config_file = \"../data/default_data_config.yaml\"\n",
    "\n",
    "sim = Simulation.from_config_file(seed=42, config_file=config_file)\n",
    "sim.run()\n",
    "\n",
    "transactions_df = pd.DataFrame(sim.transactions)\n",
    "transactions_df.head()"
   ]
  },
  {
   "cell_type": "markdown",
   "metadata": {},
   "source": [
    "There are several built in contracts.\n",
    "\n",
    "**TransactionItemLevelContract**\n",
    "\n",
    "This contract is for data that is at a transaction/product granularity and is typical when you need to perform any kind of detailed analysis.\n",
    "\n",
    "**TransactionLevelContract**\n",
    "\n",
    "This contract is similar to the `TransactionItemLevelContract` but lacks any information about a product in a transaction.\n",
    "\n",
    "**CustomerLevelContract**\n",
    "\n",
    "This contract is datasets that contains one row of data per customer.\n",
    "\n",
    "Here is a simple example of how validating that a dataset meets the requirements of a data contract. In this case we'll ensure that the data we just simulated meets the requirements of the TransactionItemLevelContract."
   ]
  },
  {
   "cell_type": "code",
   "execution_count": 2,
   "metadata": {},
   "outputs": [
    {
     "data": {
      "text/plain": [
       "True"
      ]
     },
     "execution_count": 2,
     "metadata": {},
     "output_type": "execute_result"
    }
   ],
   "source": [
    "from pyretailscience.data import contracts\n",
    "\n",
    "tc = contracts.TransactionItemLevelContract(transactions_df)\n",
    "tc.validate(contracts.EExpectationSet.BASIC)"
   ]
  },
  {
   "cell_type": "markdown",
   "metadata": {},
   "source": [
    "As expected the data meets the expectations of the contract. Since Data Contracts are powered by the Great Expectations package we can take a deeper look at the result of the validation."
   ]
  },
  {
   "cell_type": "code",
   "execution_count": 3,
   "metadata": {},
   "outputs": [
    {
     "data": {
      "text/plain": [
       "{\n",
       "  \"success\": true,\n",
       "  \"results\": [\n",
       "    {\n",
       "      \"success\": true,\n",
       "      \"expectation_config\": {\n",
       "        \"expectation_type\": \"expect_column_to_exist\",\n",
       "        \"kwargs\": {\n",
       "          \"column\": \"transaction_id\"\n",
       "        },\n",
       "        \"meta\": {}\n",
       "      },\n",
       "      \"result\": {},\n",
       "      \"meta\": {},\n",
       "      \"exception_info\": {\n",
       "        \"raised_exception\": false,\n",
       "        \"exception_message\": null,\n",
       "        \"exception_traceback\": null\n",
       "      }\n",
       "    },\n",
       "    {\n",
       "      \"success\": true,\n",
       "      \"expectation_config\": {\n",
       "        \"expectation_type\": \"expect_column_to_exist\",\n",
       "        \"kwargs\": {\n",
       "          \"column\": \"transaction_datetime\"\n",
       "        },\n",
       "        \"meta\": {}\n",
       "      },\n",
       "      \"result\": {},\n",
       "      \"meta\": {},\n",
       "      \"exception_info\": {\n",
       "        \"raised_exception\": false,\n",
       "        \"exception_message\": null,\n",
       "        \"exception_traceback\": null\n",
       "      }\n",
       "    },\n",
       "    {\n",
       "      \"success\": true,\n",
       "      \"expectation_config\": {\n",
       "        \"expectation_type\": \"expect_column_to_exist\",\n",
       "        \"kwargs\": {\n",
       "          \"column\": \"customer_id\"\n",
       "        },\n",
       "        \"meta\": {}\n",
       "      },\n",
       "      \"result\": {},\n",
       "      \"meta\": {},\n",
       "      \"exception_info\": {\n",
       "        \"raised_exception\": false,\n",
       "        \"exception_message\": null,\n",
       "        \"exception_traceback\": null\n",
       "      }\n",
       "    },\n",
       "    {\n",
       "      \"success\": true,\n",
       "      \"expectation_config\": {\n",
       "        \"expectation_type\": \"expect_column_to_exist\",\n",
       "        \"kwargs\": {\n",
       "          \"column\": \"total_price\"\n",
       "        },\n",
       "        \"meta\": {}\n",
       "      },\n",
       "      \"result\": {},\n",
       "      \"meta\": {},\n",
       "      \"exception_info\": {\n",
       "        \"raised_exception\": false,\n",
       "        \"exception_message\": null,\n",
       "        \"exception_traceback\": null\n",
       "      }\n",
       "    },\n",
       "    {\n",
       "      \"success\": true,\n",
       "      \"expectation_config\": {\n",
       "        \"expectation_type\": \"expect_column_to_exist\",\n",
       "        \"kwargs\": {\n",
       "          \"column\": \"store_id\"\n",
       "        },\n",
       "        \"meta\": {}\n",
       "      },\n",
       "      \"result\": {},\n",
       "      \"meta\": {},\n",
       "      \"exception_info\": {\n",
       "        \"raised_exception\": false,\n",
       "        \"exception_message\": null,\n",
       "        \"exception_traceback\": null\n",
       "      }\n",
       "    },\n",
       "    {\n",
       "      \"success\": true,\n",
       "      \"expectation_config\": {\n",
       "        \"expectation_type\": \"expect_column_to_exist\",\n",
       "        \"kwargs\": {\n",
       "          \"column\": \"product_id\"\n",
       "        },\n",
       "        \"meta\": {}\n",
       "      },\n",
       "      \"result\": {},\n",
       "      \"meta\": {},\n",
       "      \"exception_info\": {\n",
       "        \"raised_exception\": false,\n",
       "        \"exception_message\": null,\n",
       "        \"exception_traceback\": null\n",
       "      }\n",
       "    },\n",
       "    {\n",
       "      \"success\": true,\n",
       "      \"expectation_config\": {\n",
       "        \"expectation_type\": \"expect_column_to_exist\",\n",
       "        \"kwargs\": {\n",
       "          \"column\": \"product_name\"\n",
       "        },\n",
       "        \"meta\": {}\n",
       "      },\n",
       "      \"result\": {},\n",
       "      \"meta\": {},\n",
       "      \"exception_info\": {\n",
       "        \"raised_exception\": false,\n",
       "        \"exception_message\": null,\n",
       "        \"exception_traceback\": null\n",
       "      }\n",
       "    },\n",
       "    {\n",
       "      \"success\": true,\n",
       "      \"expectation_config\": {\n",
       "        \"expectation_type\": \"expect_column_to_exist\",\n",
       "        \"kwargs\": {\n",
       "          \"column\": \"unit_price\"\n",
       "        },\n",
       "        \"meta\": {}\n",
       "      },\n",
       "      \"result\": {},\n",
       "      \"meta\": {},\n",
       "      \"exception_info\": {\n",
       "        \"raised_exception\": false,\n",
       "        \"exception_message\": null,\n",
       "        \"exception_traceback\": null\n",
       "      }\n",
       "    },\n",
       "    {\n",
       "      \"success\": true,\n",
       "      \"expectation_config\": {\n",
       "        \"expectation_type\": \"expect_column_to_exist\",\n",
       "        \"kwargs\": {\n",
       "          \"column\": \"quantity\"\n",
       "        },\n",
       "        \"meta\": {}\n",
       "      },\n",
       "      \"result\": {},\n",
       "      \"meta\": {},\n",
       "      \"exception_info\": {\n",
       "        \"raised_exception\": false,\n",
       "        \"exception_message\": null,\n",
       "        \"exception_traceback\": null\n",
       "      }\n",
       "    }\n",
       "  ],\n",
       "  \"evaluation_parameters\": {},\n",
       "  \"statistics\": {\n",
       "    \"evaluated_expectations\": 9,\n",
       "    \"successful_expectations\": 9,\n",
       "    \"unsuccessful_expectations\": 0,\n",
       "    \"success_percent\": 100.0\n",
       "  },\n",
       "  \"meta\": {\n",
       "    \"great_expectations_version\": \"0.18.8\",\n",
       "    \"expectation_suite_name\": \"expectations\",\n",
       "    \"run_id\": {\n",
       "      \"run_name\": null,\n",
       "      \"run_time\": \"2024-02-15T16:24:55.137531+01:00\"\n",
       "    },\n",
       "    \"batch_kwargs\": {\n",
       "      \"ge_batch_id\": \"5f112d12-cc16-11ee-9a9a-00155d8f1107\"\n",
       "    },\n",
       "    \"batch_markers\": {},\n",
       "    \"batch_parameters\": {},\n",
       "    \"validation_time\": \"20240215T152455.137471Z\",\n",
       "    \"expectation_suite_meta\": {\n",
       "      \"great_expectations_version\": \"0.18.8\"\n",
       "    }\n",
       "  }\n",
       "}"
      ]
     },
     "execution_count": 3,
     "metadata": {},
     "output_type": "execute_result"
    }
   ],
   "source": [
    "tc.validation_result"
   ]
  },
  {
   "cell_type": "markdown",
   "metadata": {},
   "source": [
    "The Data Contract has two sets of expectation. **Basic Expectations** are a set of expectations that can be quickly run, such as checking whether a column exists in a DataFrame. You can see these by returning the `basic_expectations` property of the contract."
   ]
  },
  {
   "cell_type": "code",
   "execution_count": 4,
   "metadata": {},
   "outputs": [
    {
     "data": {
      "text/plain": [
       "[{\"expectation_type\": \"expect_column_to_exist\", \"kwargs\": {\"column\": \"transaction_id\"}, \"meta\": {}},\n",
       " {\"expectation_type\": \"expect_column_to_exist\", \"kwargs\": {\"column\": \"transaction_datetime\"}, \"meta\": {}},\n",
       " {\"expectation_type\": \"expect_column_to_exist\", \"kwargs\": {\"column\": \"customer_id\"}, \"meta\": {}},\n",
       " {\"expectation_type\": \"expect_column_to_exist\", \"kwargs\": {\"column\": \"total_price\"}, \"meta\": {}},\n",
       " {\"expectation_type\": \"expect_column_to_exist\", \"kwargs\": {\"column\": \"store_id\"}, \"meta\": {}},\n",
       " {\"expectation_type\": \"expect_column_to_exist\", \"kwargs\": {\"column\": \"product_id\"}, \"meta\": {}},\n",
       " {\"expectation_type\": \"expect_column_to_exist\", \"kwargs\": {\"column\": \"product_name\"}, \"meta\": {}},\n",
       " {\"expectation_type\": \"expect_column_to_exist\", \"kwargs\": {\"column\": \"unit_price\"}, \"meta\": {}},\n",
       " {\"expectation_type\": \"expect_column_to_exist\", \"kwargs\": {\"column\": \"quantity\"}, \"meta\": {}}]"
      ]
     },
     "execution_count": 4,
     "metadata": {},
     "output_type": "execute_result"
    }
   ],
   "source": [
    "tc.basic_expectations"
   ]
  },
  {
   "cell_type": "markdown",
   "metadata": {},
   "source": [
    "**Extended Expectations** are those that might be slower to run on a regular basis. For instance checking whether a set of columns are unique in combination. For large datasets you many not want to run these often. You can see these by returning the `extended_expectations` property of the contract."
   ]
  },
  {
   "cell_type": "code",
   "execution_count": 5,
   "metadata": {},
   "outputs": [
    {
     "data": {
      "text/plain": [
       "[{\"expectation_type\": \"expect_compound_columns_to_be_unique\", \"kwargs\": {\"column_list\": [\"transaction_id\", \"transaction_datetime\", \"customer_id\", \"store_id\"]}, \"meta\": {}},\n",
       " {\"expectation_type\": \"expect_transaction_product_quantity_sign_to_be_unique\", \"kwargs\": {}, \"meta\": {}},\n",
       " {\"expectation_type\": \"expect_column_values_to_not_be_null\", \"kwargs\": {\"column\": \"transaction_id\"}, \"meta\": {}},\n",
       " {\"expectation_type\": \"expect_column_values_to_not_be_null\", \"kwargs\": {\"column\": \"transaction_datetime\"}, \"meta\": {}},\n",
       " {\"expectation_type\": \"expect_column_values_to_not_be_null\", \"kwargs\": {\"column\": \"customer_id\"}, \"meta\": {}},\n",
       " {\"expectation_type\": \"expect_column_values_to_not_be_null\", \"kwargs\": {\"column\": \"total_price\"}, \"meta\": {}},\n",
       " {\"expectation_type\": \"expect_column_values_to_not_be_null\", \"kwargs\": {\"column\": \"store_id\"}, \"meta\": {}},\n",
       " {\"expectation_type\": \"expect_column_values_to_not_be_null\", \"kwargs\": {\"column\": \"product_id\"}, \"meta\": {}},\n",
       " {\"expectation_type\": \"expect_column_values_to_not_be_null\", \"kwargs\": {\"column\": \"product_name\"}, \"meta\": {}},\n",
       " {\"expectation_type\": \"expect_column_values_to_not_be_null\", \"kwargs\": {\"column\": \"unit_price\"}, \"meta\": {}},\n",
       " {\"expectation_type\": \"expect_column_values_to_not_be_null\", \"kwargs\": {\"column\": \"quantity\"}, \"meta\": {}},\n",
       " {\"expectation_type\": \"expect_column_values_to_not_be_null\", \"kwargs\": {\"column\": \"category_0_name\"}, \"meta\": {}},\n",
       " {\"expectation_type\": \"expect_column_values_to_not_be_null\", \"kwargs\": {\"column\": \"category_0_id\"}, \"meta\": {}},\n",
       " {\"expectation_type\": \"expect_column_values_to_not_be_null\", \"kwargs\": {\"column\": \"category_1_name\"}, \"meta\": {}},\n",
       " {\"expectation_type\": \"expect_column_values_to_not_be_null\", \"kwargs\": {\"column\": \"category_1_id\"}, \"meta\": {}},\n",
       " {\"expectation_type\": \"expect_column_values_to_not_be_null\", \"kwargs\": {\"column\": \"brand_id\"}, \"meta\": {}},\n",
       " {\"expectation_type\": \"expect_column_values_to_not_be_null\", \"kwargs\": {\"column\": \"brand_name\"}, \"meta\": {}}]"
      ]
     },
     "execution_count": 5,
     "metadata": {},
     "output_type": "execute_result"
    }
   ],
   "source": [
    "tc.extended_expectations"
   ]
  },
  {
   "cell_type": "markdown",
   "metadata": {},
   "source": [
    "Together these serve as a basic form of data documentation that helps get others up to speed on your data and your expectations of it.\n",
    "\n",
    "Now let's see what happens when your data doesn't meet the expectations of a contract. The **TransactionItemLevelContract** assumes that a column `transaction_datetime` is present in the data and it represents the date and time of a transaction. As such, it should always be populated."
   ]
  },
  {
   "cell_type": "code",
   "execution_count": 6,
   "metadata": {},
   "outputs": [
    {
     "data": {
      "text/plain": [
       "False"
      ]
     },
     "execution_count": 6,
     "metadata": {},
     "output_type": "execute_result"
    }
   ],
   "source": [
    "transactions_df[\"transaction_datetime\"] = None\n",
    "tc = contracts.TransactionItemLevelContract(transactions_df)\n",
    "tc.validate(contracts.EExpectationSet.EXTENDED)"
   ]
  },
  {
   "cell_type": "markdown",
   "metadata": {},
   "source": [
    "You can see that the data now fails the contract. If you want more data on exactly what failed and why, set `verbose=True` when validating. In this case the contract fails for two reasons. The originally mentioned requirement for a transaction to have a datetime and because the combination of several columns is now not unqiue."
   ]
  },
  {
   "cell_type": "code",
   "execution_count": 7,
   "metadata": {},
   "outputs": [
    {
     "name": "stdout",
     "output_type": "stream",
     "text": [
      "expect_column_values_to_not_be_null\n",
      "{'column': 'transaction_datetime'}\n",
      "expect_compound_columns_to_be_unique\n",
      "{'column_list': ['transaction_id', 'transaction_datetime', 'customer_id', 'store_id']}\n",
      "expect_transaction_product_quantity_sign_to_be_unique\n",
      "{}\n",
      "'PyRetailSciencePandasDataset' object has no attribute 'expect_transaction_product_quantity_sign_to_be_unique'\n",
      "Traceback (most recent call last):\n",
      "  File \"/home/devbox/ds_repos/pyretailscience/.venv/lib/python3.10/site-packages/great_expectations/data_asset/data_asset.py\", line 804, in validate\n",
      "    expectation_method = getattr(self, expectation.expectation_type)\n",
      "  File \"/home/devbox/ds_repos/pyretailscience/.venv/lib/python3.10/site-packages/pandas/core/generic.py\", line 6204, in __getattr__\n",
      "    return object.__getattribute__(self, name)\n",
      "AttributeError: 'PyRetailSciencePandasDataset' object has no attribute 'expect_transaction_product_quantity_sign_to_be_unique'\n",
      "\n"
     ]
    },
    {
     "data": {
      "text/plain": [
       "False"
      ]
     },
     "execution_count": 7,
     "metadata": {},
     "output_type": "execute_result"
    }
   ],
   "source": [
    "tc.validate(contracts.EExpectationSet.EXTENDED, verbose=True)"
   ]
  },
  {
   "cell_type": "markdown",
   "metadata": {},
   "source": [
    "When we transform the data we may now have a new set of expectations for that data. As a result we may want to revalidate that data with a new contract. For instance, let's say we want to perform some customer level analysis. The `CustomerLevelContract` serves as the basis for this, and ensure that only one row per customer exists."
   ]
  },
  {
   "cell_type": "code",
   "execution_count": 8,
   "metadata": {},
   "outputs": [
    {
     "data": {
      "text/html": [
       "<div>\n",
       "<style scoped>\n",
       "    .dataframe tbody tr th:only-of-type {\n",
       "        vertical-align: middle;\n",
       "    }\n",
       "\n",
       "    .dataframe tbody tr th {\n",
       "        vertical-align: top;\n",
       "    }\n",
       "\n",
       "    .dataframe thead th {\n",
       "        text-align: right;\n",
       "    }\n",
       "</style>\n",
       "<table border=\"1\" class=\"dataframe\">\n",
       "  <thead>\n",
       "    <tr style=\"text-align: right;\">\n",
       "      <th></th>\n",
       "      <th>customer_id</th>\n",
       "      <th>total_price</th>\n",
       "    </tr>\n",
       "  </thead>\n",
       "  <tbody>\n",
       "    <tr>\n",
       "      <th>0</th>\n",
       "      <td>1</td>\n",
       "      <td>65020.36</td>\n",
       "    </tr>\n",
       "    <tr>\n",
       "      <th>1</th>\n",
       "      <td>2</td>\n",
       "      <td>93233.22</td>\n",
       "    </tr>\n",
       "    <tr>\n",
       "      <th>2</th>\n",
       "      <td>3</td>\n",
       "      <td>46035.98</td>\n",
       "    </tr>\n",
       "    <tr>\n",
       "      <th>3</th>\n",
       "      <td>4</td>\n",
       "      <td>58687.99</td>\n",
       "    </tr>\n",
       "    <tr>\n",
       "      <th>4</th>\n",
       "      <td>5</td>\n",
       "      <td>34679.12</td>\n",
       "    </tr>\n",
       "  </tbody>\n",
       "</table>\n",
       "</div>"
      ],
      "text/plain": [
       "   customer_id  total_price\n",
       "0            1     65020.36\n",
       "1            2     93233.22\n",
       "2            3     46035.98\n",
       "3            4     58687.99\n",
       "4            5     34679.12"
      ]
     },
     "execution_count": 8,
     "metadata": {},
     "output_type": "execute_result"
    }
   ],
   "source": [
    "customer_df = transactions_df.groupby(\"customer_id\")[\"total_price\"].sum().reset_index()\n",
    "customer_df.head()"
   ]
  },
  {
   "cell_type": "code",
   "execution_count": 9,
   "metadata": {},
   "outputs": [
    {
     "data": {
      "text/plain": [
       "True"
      ]
     },
     "execution_count": 9,
     "metadata": {},
     "output_type": "execute_result"
    }
   ],
   "source": [
    "cc = contracts.CustomerLevelContract(customer_df)\n",
    "cc.validate(contracts.EExpectationSet.BASIC)"
   ]
  },
  {
   "cell_type": "markdown",
   "metadata": {},
   "source": [
    "You can see the customer level data contract is much simpler"
   ]
  },
  {
   "cell_type": "code",
   "execution_count": 10,
   "metadata": {},
   "outputs": [
    {
     "data": {
      "text/plain": [
       "[{\"expectation_type\": \"expect_column_to_exist\", \"kwargs\": {\"column\": \"customer_id\"}, \"meta\": {}},\n",
       " {\"expectation_type\": \"expect_column_values_to_be_unique\", \"kwargs\": {\"column\": \"customer_id\"}, \"meta\": {}}]"
      ]
     },
     "execution_count": 10,
     "metadata": {},
     "output_type": "execute_result"
    }
   ],
   "source": [
    "cc.basic_expectations + cc.extended_expectations"
   ]
  },
  {
   "cell_type": "markdown",
   "metadata": {},
   "source": [
    "Now let's see how to use them to ensure that the data is meeting the expectations for your analysis. \n",
    "\n",
    "We'll do some analysis that needs to be done at the customer level so we let's validate our data with the extended CustomerLevelContract \n",
    "\n",
    "This contract requeires that the customer ID is unique, which is what we need for our simple top customer report"
   ]
  },
  {
   "cell_type": "code",
   "execution_count": 14,
   "metadata": {},
   "outputs": [
    {
     "data": {
      "text/html": [
       "<div>\n",
       "<style scoped>\n",
       "    .dataframe tbody tr th:only-of-type {\n",
       "        vertical-align: middle;\n",
       "    }\n",
       "\n",
       "    .dataframe tbody tr th {\n",
       "        vertical-align: top;\n",
       "    }\n",
       "\n",
       "    .dataframe thead th {\n",
       "        text-align: right;\n",
       "    }\n",
       "</style>\n",
       "<table border=\"1\" class=\"dataframe\">\n",
       "  <thead>\n",
       "    <tr style=\"text-align: right;\">\n",
       "      <th></th>\n",
       "      <th>customer_id</th>\n",
       "      <th>total_price</th>\n",
       "    </tr>\n",
       "  </thead>\n",
       "  <tbody>\n",
       "    <tr>\n",
       "      <th>0</th>\n",
       "      <td>1546</td>\n",
       "      <td>311418.68</td>\n",
       "    </tr>\n",
       "    <tr>\n",
       "      <th>1</th>\n",
       "      <td>316</td>\n",
       "      <td>297522.84</td>\n",
       "    </tr>\n",
       "    <tr>\n",
       "      <th>2</th>\n",
       "      <td>1680</td>\n",
       "      <td>296068.84</td>\n",
       "    </tr>\n",
       "  </tbody>\n",
       "</table>\n",
       "</div>"
      ],
      "text/plain": [
       "   customer_id  total_price\n",
       "0         1546    311418.68\n",
       "1          316    297522.84\n",
       "2         1680    296068.84"
      ]
     },
     "metadata": {},
     "output_type": "display_data"
    }
   ],
   "source": [
    "def top_customers(df, n=5) -> pd.DataFrame:\n",
    "    \"\"\"Returns the top n customers by total price spent.\"\"\"\n",
    "    cc = contracts.CustomerLevelContract(df)\n",
    "    if not cc.validate(contracts.EExpectationSet.EXTENDED):\n",
    "        raise Exception(f\"Customer level contract failed validation. {cc.validation_result}\")\n",
    "\n",
    "    return df.sort_values(\"total_price\", ascending=False).head(n).reset_index(drop=True)\n",
    "\n",
    "display(top_customers(customer_df, n=3))"
   ]
  },
  {
   "cell_type": "markdown",
   "metadata": {},
   "source": [
    "Now let's violate the assumptions of the data and add duplicate customers in the data. In this case since the assumptions of the data have changed we'd either have corrupted data or we'd need to run a groupby to aggregate the data to the correct granularity needed by our function."
   ]
  },
  {
   "cell_type": "code",
   "execution_count": 12,
   "metadata": {},
   "outputs": [
    {
     "name": "stdout",
     "output_type": "stream",
     "text": [
      "False\n"
     ]
    },
    {
     "ename": "Exception",
     "evalue": "Customer level contract failed validation. {\n  \"success\": false,\n  \"results\": [\n    {\n      \"success\": true,\n      \"expectation_config\": {\n        \"expectation_type\": \"expect_column_to_exist\",\n        \"kwargs\": {\n          \"column\": \"customer_id\"\n        },\n        \"meta\": {}\n      },\n      \"result\": {},\n      \"meta\": {},\n      \"exception_info\": {\n        \"raised_exception\": false,\n        \"exception_message\": null,\n        \"exception_traceback\": null\n      }\n    },\n    {\n      \"success\": false,\n      \"expectation_config\": {\n        \"expectation_type\": \"expect_column_values_to_be_unique\",\n        \"kwargs\": {\n          \"column\": \"customer_id\"\n        },\n        \"meta\": {}\n      },\n      \"result\": {\n        \"element_count\": 4716,\n        \"missing_count\": 0,\n        \"missing_percent\": 0.0,\n        \"unexpected_count\": 4716,\n        \"unexpected_percent\": 100.0,\n        \"unexpected_percent_total\": 100.0,\n        \"unexpected_percent_nonmissing\": 100.0,\n        \"partial_unexpected_list\": [\n          1,\n          2,\n          3,\n          4,\n          5,\n          6,\n          7,\n          8,\n          9,\n          10,\n          11,\n          12,\n          13,\n          14,\n          15,\n          16,\n          17,\n          18,\n          19,\n          20\n        ]\n      },\n      \"meta\": {},\n      \"exception_info\": {\n        \"raised_exception\": false,\n        \"exception_message\": null,\n        \"exception_traceback\": null\n      }\n    }\n  ],\n  \"evaluation_parameters\": {},\n  \"statistics\": {\n    \"evaluated_expectations\": 2,\n    \"successful_expectations\": 1,\n    \"unsuccessful_expectations\": 1,\n    \"success_percent\": 50.0\n  },\n  \"meta\": {\n    \"great_expectations_version\": \"0.18.8\",\n    \"expectation_suite_name\": \"expectations\",\n    \"run_id\": {\n      \"run_name\": null,\n      \"run_time\": \"2024-02-15T16:24:56.352062+01:00\"\n    },\n    \"batch_kwargs\": {\n      \"ge_batch_id\": \"5fca82b2-cc16-11ee-9a9a-00155d8f1107\"\n    },\n    \"batch_markers\": {},\n    \"batch_parameters\": {},\n    \"validation_time\": \"20240215T152456.351998Z\",\n    \"expectation_suite_meta\": {\n      \"great_expectations_version\": \"0.18.8\"\n    }\n  }\n}",
     "output_type": "error",
     "traceback": [
      "\u001b[0;31m---------------------------------------------------------------------------\u001b[0m",
      "\u001b[0;31mException\u001b[0m                                 Traceback (most recent call last)",
      "Cell \u001b[0;32mIn[12], line 2\u001b[0m\n\u001b[1;32m      1\u001b[0m bad_customer_df \u001b[38;5;241m=\u001b[39m pd\u001b[38;5;241m.\u001b[39mconcat([customer_df, customer_df])\n\u001b[0;32m----> 2\u001b[0m display(\u001b[43mtop_customers\u001b[49m\u001b[43m(\u001b[49m\u001b[43mbad_customer_df\u001b[49m\u001b[43m,\u001b[49m\u001b[43m \u001b[49m\u001b[43mn\u001b[49m\u001b[38;5;241;43m=\u001b[39;49m\u001b[38;5;241;43m3\u001b[39;49m\u001b[43m)\u001b[49m)\n",
      "Cell \u001b[0;32mIn[11], line 6\u001b[0m, in \u001b[0;36mtop_customers\u001b[0;34m(df, n)\u001b[0m\n\u001b[1;32m      4\u001b[0m \u001b[38;5;28mprint\u001b[39m(cc\u001b[38;5;241m.\u001b[39mvalidate(contracts\u001b[38;5;241m.\u001b[39mEExpectationSet\u001b[38;5;241m.\u001b[39mEXTENDED))\n\u001b[1;32m      5\u001b[0m \u001b[38;5;28;01mif\u001b[39;00m \u001b[38;5;129;01mnot\u001b[39;00m cc\u001b[38;5;241m.\u001b[39mvalidate(contracts\u001b[38;5;241m.\u001b[39mEExpectationSet\u001b[38;5;241m.\u001b[39mEXTENDED):\n\u001b[0;32m----> 6\u001b[0m     \u001b[38;5;28;01mraise\u001b[39;00m \u001b[38;5;167;01mException\u001b[39;00m(\u001b[38;5;124mf\u001b[39m\u001b[38;5;124m\"\u001b[39m\u001b[38;5;124mCustomer level contract failed validation. \u001b[39m\u001b[38;5;132;01m{\u001b[39;00mcc\u001b[38;5;241m.\u001b[39mvalidation_result\u001b[38;5;132;01m}\u001b[39;00m\u001b[38;5;124m\"\u001b[39m)\n\u001b[1;32m      8\u001b[0m \u001b[38;5;28;01mreturn\u001b[39;00m df\u001b[38;5;241m.\u001b[39msort_values(\u001b[38;5;124m\"\u001b[39m\u001b[38;5;124mtotal_price\u001b[39m\u001b[38;5;124m\"\u001b[39m, ascending\u001b[38;5;241m=\u001b[39m\u001b[38;5;28;01mFalse\u001b[39;00m)\u001b[38;5;241m.\u001b[39mhead(n)\n",
      "\u001b[0;31mException\u001b[0m: Customer level contract failed validation. {\n  \"success\": false,\n  \"results\": [\n    {\n      \"success\": true,\n      \"expectation_config\": {\n        \"expectation_type\": \"expect_column_to_exist\",\n        \"kwargs\": {\n          \"column\": \"customer_id\"\n        },\n        \"meta\": {}\n      },\n      \"result\": {},\n      \"meta\": {},\n      \"exception_info\": {\n        \"raised_exception\": false,\n        \"exception_message\": null,\n        \"exception_traceback\": null\n      }\n    },\n    {\n      \"success\": false,\n      \"expectation_config\": {\n        \"expectation_type\": \"expect_column_values_to_be_unique\",\n        \"kwargs\": {\n          \"column\": \"customer_id\"\n        },\n        \"meta\": {}\n      },\n      \"result\": {\n        \"element_count\": 4716,\n        \"missing_count\": 0,\n        \"missing_percent\": 0.0,\n        \"unexpected_count\": 4716,\n        \"unexpected_percent\": 100.0,\n        \"unexpected_percent_total\": 100.0,\n        \"unexpected_percent_nonmissing\": 100.0,\n        \"partial_unexpected_list\": [\n          1,\n          2,\n          3,\n          4,\n          5,\n          6,\n          7,\n          8,\n          9,\n          10,\n          11,\n          12,\n          13,\n          14,\n          15,\n          16,\n          17,\n          18,\n          19,\n          20\n        ]\n      },\n      \"meta\": {},\n      \"exception_info\": {\n        \"raised_exception\": false,\n        \"exception_message\": null,\n        \"exception_traceback\": null\n      }\n    }\n  ],\n  \"evaluation_parameters\": {},\n  \"statistics\": {\n    \"evaluated_expectations\": 2,\n    \"successful_expectations\": 1,\n    \"unsuccessful_expectations\": 1,\n    \"success_percent\": 50.0\n  },\n  \"meta\": {\n    \"great_expectations_version\": \"0.18.8\",\n    \"expectation_suite_name\": \"expectations\",\n    \"run_id\": {\n      \"run_name\": null,\n      \"run_time\": \"2024-02-15T16:24:56.352062+01:00\"\n    },\n    \"batch_kwargs\": {\n      \"ge_batch_id\": \"5fca82b2-cc16-11ee-9a9a-00155d8f1107\"\n    },\n    \"batch_markers\": {},\n    \"batch_parameters\": {},\n    \"validation_time\": \"20240215T152456.351998Z\",\n    \"expectation_suite_meta\": {\n      \"great_expectations_version\": \"0.18.8\"\n    }\n  }\n}"
     ]
    }
   ],
   "source": [
    "bad_customer_df = pd.concat([customer_df, customer_df])\n",
    "display(top_customers(bad_customer_df, n=3))"
   ]
  },
  {
   "cell_type": "markdown",
   "metadata": {},
   "source": [
    "### Custom Contracts\n",
    "\n",
    "The out of the box contracts are great to get started with, but you can extend them to create contracts based around your data and your expectations of it. For instance, let's assume that no customer will ever have greater than $100,000 or less than $0 spend. You can create a contract with those expectations.\n",
    "\n",
    "Let's start with the existing CustomerLevelContract and add on our assumptions.\n"
   ]
  },
  {
   "cell_type": "code",
   "execution_count": 15,
   "metadata": {},
   "outputs": [],
   "source": [
    "from great_expectations.core.expectation_configuration import ExpectationConfiguration\n",
    "\n",
    "\n",
    "class CustomCustomerLevelContract(contracts.CustomerLevelContract):\n",
    "    \"\"\"A custom customer level contract that adds a new expectation to the basic and extended sets. This contract\n",
    "    ensures that the total_price column exists and is within a certain range.\"\"\"\n",
    "\n",
    "    MIN_CUSTOMER_TOTAL_PRICE = 0\n",
    "    MAX_CUSTOMER_TOTAL_PRICE = 10_000\n",
    "\n",
    "    def __init__(self, df: pd.DataFrame):\n",
    "        # Make sure the total_price column is in the DataFrame\n",
    "        self.basic_expectations.extend(\n",
    "            [\n",
    "                ExpectationConfiguration(\n",
    "                    expectation_type=\"expect_column_to_exist\",\n",
    "                    kwargs={\"column\": \"total_price\"},\n",
    "                ),\n",
    "            ]\n",
    "        )\n",
    "\n",
    "        self.extended_expectations.extend(\n",
    "            [\n",
    "                # Make sure the total_price column does not contain null values\n",
    "                ExpectationConfiguration(\n",
    "                    expectation_type=\"expect_column_values_to_not_be_null\",\n",
    "                    kwargs={\"column\": \"total_price\"},\n",
    "                ),\n",
    "                # And that it is within a certain range\n",
    "                ExpectationConfiguration(\n",
    "                    expectation_type=\"expect_column_values_to_be_between\",\n",
    "                    kwargs={\n",
    "                        \"column\": \"total_price\",\n",
    "                        \"min_value\": self.MIN_CUSTOMER_TOTAL_PRICE,\n",
    "                        \"max_value\": self.MAX_CUSTOMER_TOTAL_PRICE,\n",
    "                    },\n",
    "                ),\n",
    "            ]\n",
    "        )\n",
    "\n",
    "        super().__init__(df)"
   ]
  },
  {
   "cell_type": "markdown",
   "metadata": {},
   "source": [
    "Now with this new contract created let's test our data to see if it meets expectations"
   ]
  },
  {
   "cell_type": "code",
   "execution_count": 16,
   "metadata": {},
   "outputs": [
    {
     "name": "stdout",
     "output_type": "stream",
     "text": [
      "expect_column_values_to_be_between\n",
      "{'column': 'total_price', 'min_value': 0, 'max_value': 10000}\n"
     ]
    },
    {
     "data": {
      "text/plain": [
       "False"
      ]
     },
     "execution_count": 16,
     "metadata": {},
     "output_type": "execute_result"
    }
   ],
   "source": [
    "custom_contract = CustomCustomerLevelContract(customer_df)\n",
    "custom_contract.validate(contracts.EExpectationSet.EXTENDED, verbose=True)"
   ]
  },
  {
   "cell_type": "code",
   "execution_count": 17,
   "metadata": {},
   "outputs": [
    {
     "data": {
      "text/plain": [
       "min     13764.80\n",
       "max    311418.68\n",
       "Name: total_price, dtype: float64"
      ]
     },
     "execution_count": 17,
     "metadata": {},
     "output_type": "execute_result"
    }
   ],
   "source": [
    "customer_df[\"total_price\"].agg([\"min\",\"max\"])"
   ]
  },
  {
   "cell_type": "markdown",
   "metadata": {},
   "source": [
    "We can see that some of the customers in the DataFrame had `total_price` values outside of our required range. Let's clip these values and see if it passes this time."
   ]
  },
  {
   "cell_type": "code",
   "execution_count": 18,
   "metadata": {},
   "outputs": [
    {
     "data": {
      "text/plain": [
       "True"
      ]
     },
     "execution_count": 18,
     "metadata": {},
     "output_type": "execute_result"
    }
   ],
   "source": [
    "customer_df = customer_df.clip(lower=0, upper=10_000)\n",
    "custom_contract = CustomCustomerLevelContract(customer_df)\n",
    "custom_contract.validate(contracts.EExpectationSet.EXTENDED, verbose=True)"
   ]
  },
  {
   "cell_type": "markdown",
   "metadata": {},
   "source": [
    "Nice! With the values clipped the contract validates."
   ]
  }
 ],
 "metadata": {
  "kernelspec": {
   "display_name": ".venv",
   "language": "python",
   "name": "python3"
  },
  "language_info": {
   "codemirror_mode": {
    "name": "ipython",
    "version": 3
   },
   "file_extension": ".py",
   "mimetype": "text/x-python",
   "name": "python",
   "nbconvert_exporter": "python",
   "pygments_lexer": "ipython3",
   "version": "3.10.9"
  }
 },
 "nbformat": 4,
 "nbformat_minor": 2
}
